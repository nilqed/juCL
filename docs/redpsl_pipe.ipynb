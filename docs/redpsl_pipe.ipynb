{
 "cells": [
  {
   "cell_type": "code",
   "execution_count": 1,
   "id": "b5c7fa0d",
   "metadata": {},
   "outputs": [
    {
     "name": "stdout",
     "output_type": "stream",
     "text": [
      "MAKEPIPE\n"
     ]
    }
   ],
   "source": [
    "(defun makepipe (app &optional args)\n",
    "  (let ((proc (sb-ext:run-program app args\n",
    "                     :input :stream\n",
    "                     :output :stream\n",
    "                     :wait nil\n",
    "                     :search t)))\n",
    "  (when proc\n",
    "    (make-two-way-stream (sb-ext:process-output proc)\n",
    "                         (sb-ext:process-input proc)))))\n"
   ]
  },
  {
   "cell_type": "code",
   "execution_count": 2,
   "id": "cc254d6a",
   "metadata": {},
   "outputs": [
    {
     "name": "stdout",
     "output_type": "stream",
     "text": [
      "READPIPE\n"
     ]
    }
   ],
   "source": [
    "(defun readpipe (stream)\n",
    "  (force-output stream)\n",
    "  (with-output-to-string (out)\n",
    "    (loop\n",
    "       for c = (read-char-no-hang stream)\n",
    "       while c do (write-char c out))))\n"
   ]
  },
  {
   "cell_type": "code",
   "execution_count": 3,
   "id": "8a97dbd8",
   "metadata": {},
   "outputs": [
    {
     "name": "stdout",
     "output_type": "stream",
     "text": [
      "READPIPE-COMPLETE\n"
     ]
    }
   ],
   "source": [
    "(defun readpipe-complete (stream)\n",
    "  \"Read pipe until empty.\"\n",
    "  (setq c (readpipe stream))\n",
    "  (setq cc c)\n",
    "  (loop until (equal c \"\") do \n",
    "    (progn\n",
    "      (sleep 0.1)\n",
    "      (setq c (readpipe stream))\n",
    "      (setq cc (concatenate 'string cc c))\n",
    "      (force-output stream)))\n",
    "     cc)"
   ]
  },
  {
   "cell_type": "code",
   "execution_count": 4,
   "id": "a7092134",
   "metadata": {},
   "outputs": [
    {
     "name": "stdout",
     "output_type": "stream",
     "text": [
      "WRITEPIPE\n"
     ]
    }
   ],
   "source": [
    "(defun writepipe (stream data)\n",
    "    (format stream \"~a~%\" data)\n",
    "    (finish-output stream))\n",
    "\n",
    "\n",
    "(defun take-from-end (str n)\n",
    "  \"Return the last n characters or nil\"\n",
    "  (let ((l (length str)))\n",
    "    (if (> l n) (subseq str (- l n)) nil)))\n"
   ]
  },
  {
   "cell_type": "code",
   "execution_count": 5,
   "id": "14c09c58",
   "metadata": {},
   "outputs": [
    {
     "name": "stdout",
     "output_type": "stream",
     "text": [
      "ITUPS\n"
     ]
    }
   ],
   "source": [
    "(defparameter itups internal-time-units-per-second)\n",
    "\n",
    "(defun delta-time (timestamp)\n",
    "  \"Delta time <== internal-real-time - timestamp in seconds\"\n",
    "  (/ (- (get-internal-real-time) timestamp) itups))\n",
    "\n"
   ]
  },
  {
   "cell_type": "code",
   "execution_count": 6,
   "id": "f937e062",
   "metadata": {},
   "outputs": [
    {
     "name": "stdout",
     "output_type": "stream",
     "text": [
      "READPIPE-TIMEOUT\n"
     ]
    }
   ],
   "source": [
    "(defun readpipe-timeout (stream timeout)\n",
    "  \"Read pipe until empty or timeout in seconds.\"\n",
    "  (setq c (readpipe stream))\n",
    "  (setq cc c)\n",
    "  (setq timestamp (get-internal-real-time))\n",
    "  (loop until (or (equal c \"\") (> (delta-time timestamp) timeout)) do \n",
    "    (progn\n",
    "      (sleep 0.1)\n",
    "      (setq c (readpipe stream))\n",
    "      (setq cc (concatenate 'string cc c))\n",
    "      (force-output stream)))\n",
    "     (if (equal c \"\") cc nil))\n"
   ]
  },
  {
   "cell_type": "code",
   "execution_count": 7,
   "id": "65afd387",
   "metadata": {},
   "outputs": [
    {
     "name": "stdout",
     "output_type": "stream",
     "text": [
      "REDGET\n"
     ]
    }
   ],
   "source": [
    "(defun redget ()\n",
    "  (readpipe-timeout red *timeout*))\n",
    "\n",
    "(defun redput (data)\n",
    "  (writepipe red data))\n",
    "\n",
    "(defun redeval (code)\n",
    "  (writepipe red code)\n",
    "  (readpipe-timeout red *timeout*))\n"
   ]
  },
  {
   "cell_type": "code",
   "execution_count": 8,
   "id": "60db3903",
   "metadata": {},
   "outputs": [
    {
     "name": "stdout",
     "output_type": "stream",
     "text": [
      "#<TWO-WAY-STREAM :INPUT-STREAM #<SB-SYS:FD-STREAM for \"descriptor 8\" {1005263203}> :OUTPUT-STREAM #<SB-SYS:FD-STREAM for \"descriptor 7\" {1005263043}> {10052634C3}>\n"
     ]
    }
   ],
   "source": [
    "(setq red (makepipe \"/usr/local/bin/redpsl\"))"
   ]
  },
  {
   "cell_type": "code",
   "execution_count": 9,
   "id": "d8451c50",
   "metadata": {},
   "outputs": [
    {
     "name": "stderr",
     "output_type": "stream",
     "text": [
      " The variable *TIMEOUT* is unbound.)\n"
     ]
    }
   ],
   "source": [
    "(redget)"
   ]
  },
  {
   "cell_type": "code",
   "execution_count": 10,
   "id": "94cb9aa1",
   "metadata": {},
   "outputs": [
    {
     "name": "stdout",
     "output_type": "stream",
     "text": [
      "*TIMEOUT*\n"
     ]
    }
   ],
   "source": [
    "(defparameter *timeout* 5)"
   ]
  },
  {
   "cell_type": "code",
   "execution_count": 11,
   "id": "14891e06",
   "metadata": {},
   "outputs": [
    {
     "name": "stderr",
     "output_type": "stream",
     "text": [
      " The function COMMON-LISP-USER::DELTA-TIME is undefined.)\n"
     ]
    }
   ],
   "source": [
    "(redget)"
   ]
  },
  {
   "cell_type": "code",
   "execution_count": 12,
   "id": "624d8abf",
   "metadata": {},
   "outputs": [
    {
     "name": "stdout",
     "output_type": "stream",
     "text": [
      "DELTA-TIME\n"
     ]
    }
   ],
   "source": [
    "(defun delta-time (timestamp)\n",
    "  \"Delta time <== internal-real-time - timestamp in seconds\"\n",
    "  (/ (- (get-internal-real-time) timestamp) itups))\n"
   ]
  },
  {
   "cell_type": "code",
   "execution_count": 13,
   "id": "2a40c43a",
   "metadata": {},
   "outputs": [
    {
     "name": "stdout",
     "output_type": "stream",
     "text": [
      "\n"
     ]
    }
   ],
   "source": [
    "(redget)"
   ]
  },
  {
   "cell_type": "code",
   "execution_count": 14,
   "id": "aece9566",
   "metadata": {},
   "outputs": [
    {
     "name": "stdout",
     "output_type": "stream",
     "text": [
      "\n"
     ]
    }
   ],
   "source": [
    "(readpipe red)"
   ]
  },
  {
   "cell_type": "code",
   "execution_count": 15,
   "id": "3e0ef309",
   "metadata": {},
   "outputs": [
    {
     "name": "stderr",
     "output_type": "stream",
     "text": [
      " The function COMMON-LISP-USER::REDPUT is undefined.)\n"
     ]
    }
   ],
   "source": [
    "(redput \"x:=123456;\")"
   ]
  },
  {
   "cell_type": "code",
   "execution_count": 16,
   "id": "bbe9c57d",
   "metadata": {},
   "outputs": [
    {
     "name": "stdout",
     "output_type": "stream",
     "text": [
      "REDPUT\n"
     ]
    }
   ],
   "source": [
    "(defun redput (data)\n",
    "  (writepipe red data))"
   ]
  },
  {
   "cell_type": "code",
   "execution_count": 17,
   "id": "93941379",
   "metadata": {},
   "outputs": [
    {
     "name": "stdout",
     "output_type": "stream",
     "text": [
      "NIL\n"
     ]
    }
   ],
   "source": [
    "(redput \"x:=123456;\")"
   ]
  },
  {
   "cell_type": "code",
   "execution_count": 18,
   "id": "80105003",
   "metadata": {},
   "outputs": [
    {
     "name": "stdout",
     "output_type": "stream",
     "text": [
      "\n",
      "x := 123456\n",
      "\n",
      "2: \n"
     ]
    }
   ],
   "source": [
    "(readpipe red)"
   ]
  },
  {
   "cell_type": "code",
   "execution_count": 33,
   "id": "3016c2a7",
   "metadata": {},
   "outputs": [
    {
     "name": "stdout",
     "output_type": "stream",
     "text": [
      "NIL\n"
     ]
    }
   ],
   "source": [
    "(redput \"df(sin(z),z);\")"
   ]
  },
  {
   "cell_type": "code",
   "execution_count": 34,
   "id": "9ea5634c",
   "metadata": {},
   "outputs": [
    {
     "name": "stdout",
     "output_type": "stream",
     "text": [
      "\n",
      "cos(z)\n",
      "\n",
      "9: \n"
     ]
    }
   ],
   "source": [
    "(readpipe red)\n"
   ]
  },
  {
   "cell_type": "code",
   "execution_count": 37,
   "id": "a9b55fa5",
   "metadata": {},
   "outputs": [
    {
     "name": "stdout",
     "output_type": "stream",
     "text": [
      "NIL\n"
     ]
    }
   ],
   "source": [
    "(redput \"df(u**n,u,3);\")"
   ]
  },
  {
   "cell_type": "code",
   "execution_count": 38,
   "id": "5d294e29",
   "metadata": {},
   "outputs": [
    {
     "name": "stdout",
     "output_type": "stream",
     "text": [
      "\n",
      "  n     2\n",
      " u *n*(n  - 3*n + 2)\n",
      "---------------------\n",
      "          3\n",
      "         u\n",
      "\n",
      "11: \n"
     ]
    }
   ],
   "source": [
    "(readpipe red)"
   ]
  },
  {
   "cell_type": "code",
   "execution_count": null,
   "id": "1952ae9a",
   "metadata": {},
   "outputs": [],
   "source": []
  }
 ],
 "metadata": {
  "kernelspec": {
   "display_name": "juCL",
   "language": "common-lisp",
   "name": "jucl"
  },
  "language_info": {
   "file_extension": ".lisp",
   "mimetype": "text/plain",
   "name": "common-lisp"
  }
 },
 "nbformat": 4,
 "nbformat_minor": 5
}
