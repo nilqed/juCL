{
 "cells": [
  {
   "cell_type": "code",
   "execution_count": 1,
   "id": "869521a0",
   "metadata": {},
   "outputs": [
    {
     "name": "stdout",
     "output_type": "stream",
     "text": [
      "(WEYL)\n"
     ]
    }
   ],
   "source": [
    "(ql:quickload :weyl)"
   ]
  },
  {
   "cell_type": "code",
   "execution_count": 2,
   "id": "bdbf9c81",
   "metadata": {},
   "outputs": [
    {
     "name": "stdout",
     "output_type": "stream",
     "text": [
      "#<PACKAGE \"WEYL\">\n"
     ]
    }
   ],
   "source": [
    "(in-package :weyl)"
   ]
  },
  {
   "cell_type": "code",
   "execution_count": 3,
   "id": "2cf2e312",
   "metadata": {},
   "outputs": [
    {
     "name": "stdout",
     "output_type": "stream",
     "text": [
      "GE-VAR\n"
     ]
    }
   ],
   "source": [
    ";;; defines one general variable\n",
    "(defmacro ge-var (v) \n",
    "  `(defvar ,v (coerce ',v *general*)))"
   ]
  },
  {
   "cell_type": "code",
   "execution_count": 4,
   "id": "bb660499",
   "metadata": {},
   "outputs": [
    {
     "name": "stdout",
     "output_type": "stream",
     "text": [
      "(PROGN\n",
      " (EVAL-WHEN (COMPILE-TOPLEVEL) (%COMPILER-DEFVAR 'R))\n",
      " (%DEFVAR 'R (SOURCE-LOCATION) (UNLESS (%BOUNDP 'R) (COERCE 'R *GENERAL*))))\n"
     ]
    }
   ],
   "source": [
    "(macroexpand '(ge-var r))"
   ]
  },
  {
   "cell_type": "code",
   "execution_count": 5,
   "id": "26d1e84b",
   "metadata": {},
   "outputs": [
    {
     "name": "stdout",
     "output_type": "stream",
     "text": [
      "EVAL-STR\n"
     ]
    }
   ],
   "source": [
    "(defun eval-str (s)\n",
    "  (eval (read-from-string s)))"
   ]
  },
  {
   "cell_type": "code",
   "execution_count": 6,
   "id": "796c3d6a",
   "metadata": {},
   "outputs": [
    {
     "name": "stdout",
     "output_type": "stream",
     "text": [
      "GE-VARS\n"
     ]
    }
   ],
   "source": [
    ";;; defines general variables from a list \n",
    "(defun ge-vars (vl)\n",
    "  (loop for i in vl\n",
    "    do (eval-str (format nil \"(ge-var ~a)\" i))))"
   ]
  },
  {
   "cell_type": "code",
   "execution_count": 7,
   "id": "d26b3a31",
   "metadata": {},
   "outputs": [
    {
     "name": "stdout",
     "output_type": "stream",
     "text": [
      "WTYPE\n"
     ]
    }
   ],
   "source": [
    "(defun wtype (obj) (cl::type-of obj))"
   ]
  },
  {
   "cell_type": "code",
   "execution_count": 8,
   "id": "04ca8c5a",
   "metadata": {},
   "outputs": [
    {
     "name": "stdout",
     "output_type": "stream",
     "text": [
      "(v.1 x)\n"
     ]
    }
   ],
   "source": [
    "(weyli::ge-variables *general*)"
   ]
  },
  {
   "cell_type": "code",
   "execution_count": 9,
   "id": "691b910a",
   "metadata": {},
   "outputs": [
    {
     "name": "stdout",
     "output_type": "stream",
     "text": [
      "NIL\n"
     ]
    }
   ],
   "source": [
    "(ge-vars '(p q r x y z x_0 x_1 x_2 x_3))"
   ]
  },
  {
   "cell_type": "code",
   "execution_count": 10,
   "id": "06cc8f02",
   "metadata": {},
   "outputs": [
    {
     "name": "stdout",
     "output_type": "stream",
     "text": [
      "(x_3 x_2 x_1 x_0 z y x r q p v.1 x)\n"
     ]
    }
   ],
   "source": [
    "(weyli::ge-variables *general*)"
   ]
  },
  {
   "cell_type": "code",
   "execution_count": 11,
   "id": "dbc24e43",
   "metadata": {},
   "outputs": [
    {
     "name": "stdout",
     "output_type": "stream",
     "text": [
      "p\n"
     ]
    }
   ],
   "source": [
    "p"
   ]
  },
  {
   "cell_type": "code",
   "execution_count": 12,
   "id": "f684499c",
   "metadata": {},
   "outputs": [
    {
     "name": "stdout",
     "output_type": "stream",
     "text": [
      "GE-VARIABLE\n"
     ]
    }
   ],
   "source": [
    "(wtype p)"
   ]
  },
  {
   "cell_type": "markdown",
   "id": "b8bbb923",
   "metadata": {},
   "source": [
    "Describe output on console ..."
   ]
  },
  {
   "cell_type": "code",
   "execution_count": 13,
   "id": "20f0d566",
   "metadata": {},
   "outputs": [
    {
     "name": "stdout",
     "output_type": "stream",
     "text": [
      "NIL\n"
     ]
    }
   ],
   "source": [
    "(describe (wtype p))"
   ]
  },
  {
   "cell_type": "markdown",
   "id": "5bdf943f",
   "metadata": {},
   "source": [
    "Inspect goes to console as well (:todo) -- end with `q` + 2*ENTER"
   ]
  },
  {
   "cell_type": "code",
   "execution_count": 16,
   "id": "2221f7d2",
   "metadata": {},
   "outputs": [
    {
     "name": "stderr",
     "output_type": "stream",
     "text": [
      " The variable GE1 is unbound.)\n"
     ]
    }
   ],
   "source": [
    "(inspect (wtype (* p q)))"
   ]
  },
  {
   "cell_type": "code",
   "execution_count": 19,
   "id": "af030360",
   "metadata": {},
   "outputs": [
    {
     "name": "stdout",
     "output_type": "stream",
     "text": [
      "GE1\n"
     ]
    }
   ],
   "source": [
    "(defvar ge1 (expt p (* p q)))"
   ]
  },
  {
   "cell_type": "code",
   "execution_count": 20,
   "id": "7c57687f",
   "metadata": {},
   "outputs": [
    {
     "name": "stdout",
     "output_type": "stream",
     "text": [
      "p^(q p)\n"
     ]
    }
   ],
   "source": [
    "ge1"
   ]
  },
  {
   "cell_type": "code",
   "execution_count": 22,
   "id": "6ab360fa",
   "metadata": {},
   "outputs": [
    {
     "name": "stdout",
     "output_type": "stream",
     "text": [
      "DGE1/DP\n"
     ]
    }
   ],
   "source": [
    "(defvar dge1/dp (deriv ge1 p))"
   ]
  },
  {
   "cell_type": "code",
   "execution_count": 23,
   "id": "c0fa34a0",
   "metadata": {},
   "outputs": [
    {
     "name": "stdout",
     "output_type": "stream",
     "text": [
      "(log(p)) q p^(q p) + q p^(q p)\n"
     ]
    }
   ],
   "source": [
    "dge1/dp"
   ]
  },
  {
   "cell_type": "code",
   "execution_count": 24,
   "id": "9d8158f6",
   "metadata": {},
   "outputs": [
    {
     "name": "stdout",
     "output_type": "stream",
     "text": [
      "(log(p)) p^(1 + p^2) + p^(1 + p^2)\n"
     ]
    }
   ],
   "source": [
    "(substitute p q dge1/dp) "
   ]
  },
  {
   "cell_type": "code",
   "execution_count": 26,
   "id": "fa69bcf7",
   "metadata": {},
   "outputs": [
    {
     "name": "stdout",
     "output_type": "stream",
     "text": [
      "p^p^2 + (2 (log(p)) p^(2 + p^2) + (1 + p^2) p^p^2) (log(p)) + 2 (log(p)) p^(2 + p^2) + (1 + p^2) p^p^2\n"
     ]
    }
   ],
   "source": [
    "(deriv (substitute p q dge1/dp) p)"
   ]
  },
  {
   "cell_type": "code",
   "execution_count": 27,
   "id": "a13a3628",
   "metadata": {},
   "outputs": [
    {
     "name": "stdout",
     "output_type": "stream",
     "text": [
      "T\n"
     ]
    }
   ],
   "source": [
    "(ge-variable? p)"
   ]
  },
  {
   "cell_type": "code",
   "execution_count": 28,
   "id": "fc5a9e57",
   "metadata": {},
   "outputs": [
    {
     "name": "stderr",
     "output_type": "stream",
     "text": [
      " The variable U is unbound.)\n"
     ]
    }
   ],
   "source": [
    "(ge-variable? u)"
   ]
  },
  {
   "cell_type": "code",
   "execution_count": 31,
   "id": "f549e0ae",
   "metadata": {},
   "outputs": [
    {
     "name": "stdout",
     "output_type": "stream",
     "text": [
      "NIL\n"
     ]
    }
   ],
   "source": [
    "(ge-vars '(u v))"
   ]
  },
  {
   "cell_type": "code",
   "execution_count": 32,
   "id": "23a6991c",
   "metadata": {},
   "outputs": [
    {
     "name": "stdout",
     "output_type": "stream",
     "text": [
      "F1\n"
     ]
    }
   ],
   "source": [
    ";;; make-app-function (todo: wrong in manual: make-applicable-function)\n",
    "(defvar f1 (weyli::make-app-function '(u v) (+ (* 'u 'v) (* 'u 'u 'u))))"
   ]
  },
  {
   "cell_type": "code",
   "execution_count": 33,
   "id": "bb15b5d9",
   "metadata": {},
   "outputs": [
    {
     "name": "stdout",
     "output_type": "stream",
     "text": [
      "(lambda (v.1 v.2) v.1^3 + v.2 v.1)\n"
     ]
    }
   ],
   "source": [
    "f1"
   ]
  },
  {
   "cell_type": "code",
   "execution_count": 35,
   "id": "a1b45b82",
   "metadata": {},
   "outputs": [
    {
     "name": "stdout",
     "output_type": "stream",
     "text": [
      "DF10\n"
     ]
    }
   ],
   "source": [
    "(defvar df10 (deriv f1 0)) "
   ]
  },
  {
   "cell_type": "code",
   "execution_count": 36,
   "id": "cf443262",
   "metadata": {},
   "outputs": [
    {
     "name": "stdout",
     "output_type": "stream",
     "text": [
      "DF11\n"
     ]
    }
   ],
   "source": [
    "(defvar df11(deriv f1 1))"
   ]
  },
  {
   "cell_type": "code",
   "execution_count": 37,
   "id": "c0210e8e",
   "metadata": {},
   "outputs": [
    {
     "name": "stdout",
     "output_type": "stream",
     "text": [
      "APPLICABLE-FUNCTION\n"
     ]
    }
   ],
   "source": [
    "(wtype f1)"
   ]
  },
  {
   "cell_type": "code",
   "execution_count": 38,
   "id": "836c99bb",
   "metadata": {},
   "outputs": [
    {
     "name": "stdout",
     "output_type": "stream",
     "text": [
      "APPLICABLE-FUNCTION\n"
     ]
    }
   ],
   "source": [
    "(wtype df10)"
   ]
  },
  {
   "cell_type": "code",
   "execution_count": 39,
   "id": "33724525",
   "metadata": {},
   "outputs": [
    {
     "name": "stdout",
     "output_type": "stream",
     "text": [
      "p^3 + q p\n"
     ]
    }
   ],
   "source": [
    "(apply f1 '(p q)) "
   ]
  },
  {
   "cell_type": "code",
   "execution_count": 40,
   "id": "bec2ecc4",
   "metadata": {},
   "outputs": [
    {
     "name": "stdout",
     "output_type": "stream",
     "text": [
      "q + 3 p^2\n"
     ]
    }
   ],
   "source": [
    "(apply (deriv f1 0) '(p q)) "
   ]
  },
  {
   "cell_type": "code",
   "execution_count": 41,
   "id": "18040cad",
   "metadata": {},
   "outputs": [
    {
     "name": "stdout",
     "output_type": "stream",
     "text": [
      "Create a variable in a domain.\n"
     ]
    }
   ],
   "source": [
    "(documentation 'weyli::make-ge-variable 'function)"
   ]
  },
  {
   "cell_type": "code",
   "execution_count": 42,
   "id": "ca8478bf",
   "metadata": {},
   "outputs": [
    {
     "name": "stdout",
     "output_type": "stream",
     "text": [
      "Coerce the element into the domain.\n"
     ]
    }
   ],
   "source": [
    "(documentation 'weyli::coerce 'function)"
   ]
  },
  {
   "cell_type": "code",
   "execution_count": 43,
   "id": "21b65a27",
   "metadata": {},
   "outputs": [
    {
     "name": "stdout",
     "output_type": "stream",
     "text": [
      "Replaces all products of sums in exp by sums of products.\n"
     ]
    }
   ],
   "source": [
    "(documentation 'weyli::expand 'function)"
   ]
  },
  {
   "cell_type": "code",
   "execution_count": 44,
   "id": "3e9ede41",
   "metadata": {},
   "outputs": [
    {
     "name": "stdout",
     "output_type": "stream",
     "text": [
      "SHOW\n"
     ]
    }
   ],
   "source": [
    "(defun show (out)\n",
    "  (sb-ext:run-program \"/usr/local/bin/aamath\"\n",
    "                    (list  (format nil \"~A\" out))\n",
    "                    :output *standard-output*))"
   ]
  },
  {
   "cell_type": "markdown",
   "id": "59466fea",
   "metadata": {},
   "source": [
    "Goes to console too :-(  (TODO)"
   ]
  },
  {
   "cell_type": "code",
   "execution_count": 45,
   "id": "04e7fa4d",
   "metadata": {},
   "outputs": [
    {
     "name": "stdout",
     "output_type": "stream",
     "text": [
      "#<PROCESS :EXITED 0>\n"
     ]
    }
   ],
   "source": [
    "(show \"a/b+c^x-2\")"
   ]
  },
  {
   "cell_type": "code",
   "execution_count": null,
   "id": "fa6a07a9",
   "metadata": {},
   "outputs": [],
   "source": []
  }
 ],
 "metadata": {
  "kernelspec": {
   "display_name": "juCL",
   "language": "common-lisp",
   "name": "jucl"
  },
  "language_info": {
   "file_extension": ".lisp",
   "mimetype": "text/plain",
   "name": "common-lisp"
  }
 },
 "nbformat": 4,
 "nbformat_minor": 5
}
